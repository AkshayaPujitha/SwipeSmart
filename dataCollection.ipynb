{
 "cells": [
  {
   "cell_type": "code",
   "execution_count": 1,
   "id": "7a67cfc1",
   "metadata": {},
   "outputs": [
    {
     "name": "stdout",
     "output_type": "stream",
     "text": [
      "Requirement already satisfied: cvzone in /Users/akshayapujithakolli/anaconda3/lib/python3.10/site-packages (1.5.6)\r\n",
      "Requirement already satisfied: opencv-python in /Users/akshayapujithakolli/anaconda3/lib/python3.10/site-packages (from cvzone) (4.8.0.74)\r\n",
      "Requirement already satisfied: numpy in /Users/akshayapujithakolli/anaconda3/lib/python3.10/site-packages (from cvzone) (1.23.5)\r\n"
     ]
    }
   ],
   "source": [
    "! pip install cvzone\n"
   ]
  },
  {
   "cell_type": "code",
   "execution_count": 5,
   "id": "03e9d278",
   "metadata": {},
   "outputs": [],
   "source": [
    "import numpy as np\n",
    "import cv2\n",
    "import time\n",
    "import math\n",
    "import cvzone\n",
    "from cvzone.HandTrackingModule import HandDetector\n"
   ]
  },
  {
   "cell_type": "code",
   "execution_count": 6,
   "id": "9ec528f0",
   "metadata": {},
   "outputs": [
    {
     "name": "stdout",
     "output_type": "stream",
     "text": [
      "test\n"
     ]
    }
   ],
   "source": [
    "detector=HandDetector(maxHands=1)\n",
    "offset=20\n",
    "imgSize=400\n",
    "cap=cv2.VideoCapture(0)\n",
    "imgs=['ScrollUp','ScrollDown','SwipeRight','SwipeLeft','Neutral']\n",
    "folder=f'test'\n",
    "print(folder)\n",
    "counter=0\n",
    "while True:\n",
    "    ret,frame=cap.read()\n",
    "    hands,frame=detector.findHands(frame)\n",
    "    \n",
    "    if hands:\n",
    "        hand=hands[0]\n",
    "        x,y,w,h=hand['bbox']\n",
    "        \n",
    "        imgWhite=np.ones((imgSize,imgSize,3),np.uint8)*255\n",
    "        \n",
    "        imgCrop=frame[y-offset:y+h+offset,x-offset:x+w+offset]\n",
    "        cv2.imshow(\"ImageCrop\",imgCrop)\n",
    "        \n",
    "        #OverLay\n",
    "        imgCropShape=imgCrop.shape\n",
    "        \n",
    "        aspectRatio=h/w\n",
    "        \n",
    "        if aspectRatio>1:\n",
    "            k=imgSize/h\n",
    "            wCal=math.ceil(k*w)\n",
    "            imgResize=cv2.resize(imgCrop,(wCal,imgSize))\n",
    "            imgResizeShape=imgResize.shape\n",
    "            wGap=math.ceil((imgSize-wCal)/2)\n",
    "            imgWhite[:,wGap:wGap+wCal]=imgResize\n",
    "            \n",
    "        else:\n",
    "            k=imgSize/w\n",
    "            hCal=math.ceil(k*h)\n",
    "            imgResize=cv2.resize(imgCrop,(imgSize,hCal))\n",
    "            imgResizeShape=imgResize.shape\n",
    "            hGap=math.ceil((imgSize-hCal)/2)\n",
    "            imgWhite[hGap:hGap+hCal,:]=imgResize\n",
    "            \n",
    "            \n",
    "        \n",
    "        try:\n",
    "            cv2.imshow(\"Imagewhite\",imgWhite)\n",
    "            cv2.imshow(\"ImageCrop\",imgCrop)\n",
    "        except:\n",
    "            pass\n",
    "        \n",
    "    \n",
    "    cv2.imshow(\"Image\",frame)\n",
    "    key=cv2.waitKey(1)\n",
    "    \n",
    "    #Save Images\n",
    "    if key==ord('s'):\n",
    "        cv2.imwrite(f'{folder}/image_{time.time()}.jpg',imgCrop)\n",
    "        counter+=1\n",
    "        print(counter)\n",
    "    \n",
    "    if key == ord('q'):\n",
    "        break\n",
    "\n",
    "cap.release()\n",
    "cv2.destroyAllWindows()"
   ]
  },
  {
   "cell_type": "code",
   "execution_count": null,
   "id": "1f70f096",
   "metadata": {},
   "outputs": [],
   "source": []
  },
  {
   "cell_type": "code",
   "execution_count": null,
   "id": "f8b5abd2",
   "metadata": {},
   "outputs": [],
   "source": []
  }
 ],
 "metadata": {
  "kernelspec": {
   "display_name": "tf3",
   "language": "python",
   "name": "mykernel"
  },
  "language_info": {
   "codemirror_mode": {
    "name": "ipython",
    "version": 3
   },
   "file_extension": ".py",
   "mimetype": "text/x-python",
   "name": "python",
   "nbconvert_exporter": "python",
   "pygments_lexer": "ipython3",
   "version": "3.10.11"
  }
 },
 "nbformat": 4,
 "nbformat_minor": 5
}
